{
 "cells": [
  {
   "cell_type": "code",
   "execution_count": 1,
   "id": "clinical-marsh",
   "metadata": {},
   "outputs": [],
   "source": [
    "import numpy as np\n",
    "import matplotlib.pyplot as plt\n",
    "from mpl_toolkits.mplot3d import Axes3D  # 空间三维画图"
   ]
  },
  {
   "cell_type": "code",
   "execution_count": 2,
   "id": "metallic-animation",
   "metadata": {},
   "outputs": [
    {
     "name": "stdout",
     "output_type": "stream",
     "text": [
      "(6570, 2)\n",
      "(6570, 3)\n"
     ]
    }
   ],
   "source": [
    "uv=np.loadtxt('camera_uv.txt',dtype=np.int32)\n",
    "xyz=np.loadtxt('camera_xyz.txt',dtype=np.float32)[:,0:3]\n",
    "print(uv.shape)\n",
    "print(xyz.shape)"
   ]
  },
  {
   "cell_type": "code",
   "execution_count": 3,
   "id": "ready-bishop",
   "metadata": {},
   "outputs": [
    {
     "name": "stdout",
     "output_type": "stream",
     "text": [
      "Using matplotlib backend: Qt5Agg\n"
     ]
    }
   ],
   "source": [
    "%matplotlib auto\n",
    "x=xyz[:,0]\n",
    "y=xyz[:,1]\n",
    "z=xyz[:,2]\n",
    "fig = plt.figure()\n",
    "ax = Axes3D(fig)\n",
    "ax.scatter(x, y, z)\n",
    "# 添加坐标轴(顺序是Z, Y, X)\n",
    "ax.set_zlabel('Z')\n",
    "ax.set_ylabel('Y')\n",
    "ax.set_xlabel('X')\n",
    "plt.show()"
   ]
  },
  {
   "cell_type": "markdown",
   "id": "professional-tuner",
   "metadata": {},
   "source": [
    "# 提取框内点晕并显示"
   ]
  },
  {
   "cell_type": "code",
   "execution_count": 4,
   "id": "strange-claim",
   "metadata": {},
   "outputs": [
    {
     "name": "stdout",
     "output_type": "stream",
     "text": [
      "0 639 639\n",
      "6 454 448\n"
     ]
    }
   ],
   "source": [
    "# uv显示\n",
    "u=uv[:,0]\n",
    "v=uv[:,1]\n",
    "print(u.min(),u.max(),u.max()-u.min())\n",
    "print(v.min(),v.max(),v.max()-v.min())\n",
    "plt.figure()\n",
    "#设置X轴标签\n",
    "plt.xlabel('X')\n",
    "#设置Y轴标签\n",
    "plt.ylabel('Y')\n",
    "plt.scatter(u, v)\n",
    "plt.show()"
   ]
  },
  {
   "cell_type": "code",
   "execution_count": 5,
   "id": "gentle-dividend",
   "metadata": {},
   "outputs": [
    {
     "name": "stdout",
     "output_type": "stream",
     "text": [
      "int32\n",
      "(6570,)\n",
      "(array([ 946,  950,  952, ..., 4015, 4022, 4026]),)\n",
      "[[-1.3560081e+00  2.3767713e-01  4.3345194e+00]\n",
      " [-1.3480393e+00  8.0105938e-02  4.3094025e+00]\n",
      " [-1.3396244e+00 -7.5398229e-02  4.2828684e+00]\n",
      " ...\n",
      " [-9.7469524e-02 -7.2141314e-01  4.1281028e+00]\n",
      " [-8.9266129e-02  1.2556267e-01  3.6967649e+00]\n",
      " [-8.6645082e-02 -1.8884600e-03  3.6670656e+00]]\n",
      "[[131 298]\n",
      " [131 267]\n",
      " [131 236]\n",
      " ...\n",
      " [369 102]\n",
      " [369 280]\n",
      " [369 251]]\n",
      "(array([ 942,  946,  950, ..., 4018, 4022, 4026]),)\n",
      "[[-1.2914845e+00  3.7602779e-01  4.1259627e+00]\n",
      " [-1.3560081e+00  2.3767713e-01  4.3345194e+00]\n",
      " [-1.3480393e+00  8.0105938e-02  4.3094025e+00]\n",
      " ...\n",
      " [-8.7923110e-02  2.4250111e-01  3.5424223e+00]\n",
      " [-8.9266129e-02  1.2556267e-01  3.6967649e+00]\n",
      " [-8.6645082e-02 -1.8884600e-03  3.6670656e+00]]\n",
      "[[131 329]\n",
      " [131 298]\n",
      " [131 267]\n",
      " ...\n",
      " [368 310]\n",
      " [369 280]\n",
      " [369 251]]\n"
     ]
    }
   ],
   "source": [
    "#已知uv，xyz。求对应框内的三维点云\n",
    "print(uv[:,0].dtype)\n",
    "print(uv[:,0].shape)\n",
    "def get_one_pc(x1,x2,y1,y2):\n",
    "    test=np.where((uv[:,0]>x1) & (uv[:,0]<x2) & (uv[:,1]>y1) & (uv[:,1]<y2))\n",
    "    print(test)\n",
    "    get_uv=uv[test]\n",
    "    get_xyz=xyz[test]\n",
    "    print(get_xyz)\n",
    "    print(get_uv)\n",
    "    \n",
    "    plt.figure()\n",
    "    plt.scatter(get_uv[:,0],get_uv[:,1])\n",
    "    plt.show()\n",
    "    x=get_xyz[:,0]\n",
    "    y=get_xyz[:,1]\n",
    "    z=get_xyz[:,2]\n",
    "    fig = plt.figure()\n",
    "    ax = Axes3D(fig)\n",
    "    ax.scatter(x, y, z)\n",
    "    # 添加坐标轴(顺序是Z, Y, X)\n",
    "    ax.set_zlabel('Z', fontdict={'size': 15, 'color': 'red'})\n",
    "    ax.set_ylabel('Y', fontdict={'size': 15, 'color': 'red'})\n",
    "    ax.set_xlabel('X', fontdict={'size': 15, 'color': 'red'})\n",
    "    plt.show()\n",
    "    \n",
    "get_one_pc(130,370,0,300)\n",
    "get_one_pc(130,370,0,350)"
   ]
  },
  {
   "cell_type": "code",
   "execution_count": 8,
   "id": "circular-coverage",
   "metadata": {},
   "outputs": [
    {
     "name": "stdout",
     "output_type": "stream",
     "text": [
      "int32\n",
      "(6570,)\n",
      "2.73216\n",
      "2.73216\n"
     ]
    }
   ],
   "source": [
    "print(uv[:,0].dtype)\n",
    "print(uv[:,0].shape)\n",
    "def get_box_distance(x1,x2,y1,y2):\n",
    "    test=np.where((uv[:,0]>x1) & (uv[:,0]<x2) & (uv[:,1]>y1) & (uv[:,1]<y2))\n",
    "    get_uv=uv[test]\n",
    "    get_xyz=xyz[test]\n",
    "#     x=get_xyz[:,0]\n",
    "#     y=get_xyz[:,1]\n",
    "#     z=get_xyz[:,2]\n",
    "    depth = np.sqrt(np.square(get_xyz[:, 0]) + np.square(get_xyz[:, 1]) + np.square(get_xyz[:, 2]))\n",
    "    print(depth.min())\n",
    "get_box_distance(130,370,0,300)\n",
    "get_box_distance(130,370,0,350)"
   ]
  },
  {
   "cell_type": "code",
   "execution_count": null,
   "id": "honey-eclipse",
   "metadata": {},
   "outputs": [],
   "source": []
  },
  {
   "cell_type": "code",
   "execution_count": null,
   "id": "later-fault",
   "metadata": {},
   "outputs": [],
   "source": []
  },
  {
   "cell_type": "code",
   "execution_count": null,
   "id": "announced-addiction",
   "metadata": {},
   "outputs": [],
   "source": []
  }
 ],
 "metadata": {
  "kernelspec": {
   "display_name": "Python 3",
   "language": "python",
   "name": "python3"
  },
  "language_info": {
   "codemirror_mode": {
    "name": "ipython",
    "version": 3
   },
   "file_extension": ".py",
   "mimetype": "text/x-python",
   "name": "python",
   "nbconvert_exporter": "python",
   "pygments_lexer": "ipython3",
   "version": "3.7.10"
  }
 },
 "nbformat": 4,
 "nbformat_minor": 5
}
