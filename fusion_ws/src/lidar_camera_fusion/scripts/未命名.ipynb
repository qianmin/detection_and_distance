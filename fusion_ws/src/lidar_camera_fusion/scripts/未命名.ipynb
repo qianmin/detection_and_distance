{
 "cells": [
  {
   "cell_type": "code",
   "execution_count": 12,
   "id": "searching-lottery",
   "metadata": {},
   "outputs": [
    {
     "name": "stdout",
     "output_type": "stream",
     "text": [
      "int64\n",
      "(6,)\n",
      "[4]\n"
     ]
    }
   ],
   "source": [
    "import numpy as np\n",
    "a=([1,2,3,4,5,6])\n",
    "a=np.array(a)\n",
    "print(a.dtype)\n",
    "print(a.shape)\n",
    "b=np.where((a > 3)&(a<5))\n",
    "print(a[b])"
   ]
  },
  {
   "cell_type": "code",
   "execution_count": null,
   "id": "after-rachel",
   "metadata": {},
   "outputs": [],
   "source": []
  }
 ],
 "metadata": {
  "kernelspec": {
   "display_name": "Python 3",
   "language": "python",
   "name": "python3"
  },
  "language_info": {
   "codemirror_mode": {
    "name": "ipython",
    "version": 3
   },
   "file_extension": ".py",
   "mimetype": "text/x-python",
   "name": "python",
   "nbconvert_exporter": "python",
   "pygments_lexer": "ipython3",
   "version": "3.7.10"
  }
 },
 "nbformat": 4,
 "nbformat_minor": 5
}
